{
 "cells": [
  {
   "cell_type": "markdown",
   "metadata": {},
   "source": [
    "# Tools\n",
    "\n",
    "This notebook contains all the tools that will be used by the agent."
   ]
  },
  {
   "cell_type": "code",
   "execution_count": 1,
   "metadata": {},
   "outputs": [],
   "source": [
    "import requests\n",
    "import sqlite3\n",
    "import pandas as pd\n",
    "\n",
    "from smolagents import tool, Tool\n",
    "\n",
    "from langchain_community.tools.ddg_search.tool import DuckDuckGoSearchRun"
   ]
  },
  {
   "cell_type": "markdown",
   "metadata": {},
   "source": [
    "## Creating simple tool\n",
    "\n",
    "A Python function must be annotated with `@tool`. It should also have a docstring describing what does the function do, what does it return and the description of its parameters."
   ]
  },
  {
   "cell_type": "markdown",
   "metadata": {},
   "source": [
    "### City to location \n",
    "\n",
    "The following function look up at latitude and longitude of a city."
   ]
  },
  {
   "cell_type": "code",
   "execution_count": null,
   "metadata": {},
   "outputs": [],
   "source": [
    "# TODO: Load CSV file containing latitude, longitude and altitude of cities\n",
    "# https://github.com/bahar/WorldCityLocations/tree/master\n",
    "df = pd.read_csv('data/cities_latlng.csv', sep=';')\n",
    "print(df)"
   ]
  },
  {
   "cell_type": "code",
   "execution_count": null,
   "metadata": {},
   "outputs": [],
   "source": [
    "# Add columns to the data frame\n",
    "df.columns = [ 'id', 'country', 'city', 'latitude', 'longitude', 'altitude']\n",
    "# Drop country column\n",
    "df.drop('country', axis=1, inplace=True)"
   ]
  },
  {
   "cell_type": "code",
   "execution_count": 5,
   "metadata": {},
   "outputs": [
    {
     "data": {
      "text/html": [
       "<div>\n",
       "<style scoped>\n",
       "    .dataframe tbody tr th:only-of-type {\n",
       "        vertical-align: middle;\n",
       "    }\n",
       "\n",
       "    .dataframe tbody tr th {\n",
       "        vertical-align: top;\n",
       "    }\n",
       "\n",
       "    .dataframe thead th {\n",
       "        text-align: right;\n",
       "    }\n",
       "</style>\n",
       "<table border=\"1\" class=\"dataframe\">\n",
       "  <thead>\n",
       "    <tr style=\"text-align: right;\">\n",
       "      <th></th>\n",
       "      <th>id</th>\n",
       "      <th>city</th>\n",
       "      <th>latitude</th>\n",
       "      <th>longitude</th>\n",
       "      <th>altitude</th>\n",
       "    </tr>\n",
       "  </thead>\n",
       "  <tbody>\n",
       "    <tr>\n",
       "      <th>0</th>\n",
       "      <td>2</td>\n",
       "      <td>Kandahar</td>\n",
       "      <td>31.610000</td>\n",
       "      <td>65.699997</td>\n",
       "      <td>1015</td>\n",
       "    </tr>\n",
       "    <tr>\n",
       "      <th>1</th>\n",
       "      <td>3</td>\n",
       "      <td>Mazar-e Sharif</td>\n",
       "      <td>36.706944</td>\n",
       "      <td>67.112221</td>\n",
       "      <td>369</td>\n",
       "    </tr>\n",
       "    <tr>\n",
       "      <th>2</th>\n",
       "      <td>4</td>\n",
       "      <td>Herat</td>\n",
       "      <td>34.340000</td>\n",
       "      <td>62.189999</td>\n",
       "      <td>927</td>\n",
       "    </tr>\n",
       "    <tr>\n",
       "      <th>3</th>\n",
       "      <td>5</td>\n",
       "      <td>Jalalabad</td>\n",
       "      <td>34.420000</td>\n",
       "      <td>70.449997</td>\n",
       "      <td>573</td>\n",
       "    </tr>\n",
       "    <tr>\n",
       "      <th>4</th>\n",
       "      <td>6</td>\n",
       "      <td>Konduz</td>\n",
       "      <td>36.720000</td>\n",
       "      <td>68.860001</td>\n",
       "      <td>394</td>\n",
       "    </tr>\n",
       "  </tbody>\n",
       "</table>\n",
       "</div>"
      ],
      "text/plain": [
       "   id            city   latitude  longitude  altitude\n",
       "0   2        Kandahar  31.610000  65.699997      1015\n",
       "1   3  Mazar-e Sharif  36.706944  67.112221       369\n",
       "2   4           Herat  34.340000  62.189999       927\n",
       "3   5       Jalalabad  34.420000  70.449997       573\n",
       "4   6          Konduz  36.720000  68.860001       394"
      ]
     },
     "execution_count": 5,
     "metadata": {},
     "output_type": "execute_result"
    }
   ],
   "source": [
    "df.head()"
   ]
  },
  {
   "cell_type": "code",
   "execution_count": 6,
   "metadata": {},
   "outputs": [
    {
     "data": {
      "text/html": [
       "<div>\n",
       "<style scoped>\n",
       "    .dataframe tbody tr th:only-of-type {\n",
       "        vertical-align: middle;\n",
       "    }\n",
       "\n",
       "    .dataframe tbody tr th {\n",
       "        vertical-align: top;\n",
       "    }\n",
       "\n",
       "    .dataframe thead th {\n",
       "        text-align: right;\n",
       "    }\n",
       "</style>\n",
       "<table border=\"1\" class=\"dataframe\">\n",
       "  <thead>\n",
       "    <tr style=\"text-align: right;\">\n",
       "      <th></th>\n",
       "      <th>id</th>\n",
       "      <th>city</th>\n",
       "      <th>latitude</th>\n",
       "      <th>longitude</th>\n",
       "      <th>altitude</th>\n",
       "    </tr>\n",
       "  </thead>\n",
       "  <tbody>\n",
       "    <tr>\n",
       "      <th>10566</th>\n",
       "      <td>10568</td>\n",
       "      <td>Singapore</td>\n",
       "      <td>1.29027</td>\n",
       "      <td>103.851959</td>\n",
       "      <td>164</td>\n",
       "    </tr>\n",
       "  </tbody>\n",
       "</table>\n",
       "</div>"
      ],
      "text/plain": [
       "          id       city  latitude   longitude  altitude\n",
       "10566  10568  Singapore   1.29027  103.851959       164"
      ]
     },
     "execution_count": 6,
     "metadata": {},
     "output_type": "execute_result"
    }
   ],
   "source": [
    "# TODO: Explore the loaded dataframe\n",
    "df[df['city'] == 'Singapore']"
   ]
  },
  {
   "cell_type": "code",
   "execution_count": 15,
   "metadata": {},
   "outputs": [],
   "source": [
    "# TODO: Add tool description\n",
    "\n",
    "@tool\n",
    "def get_latlng(city: str) -> any:\n",
    "   \"\"\" \n",
    "   Get the latitude, longitude and altitude of a city in a dictionary. \n",
    "\n",
    "   Args:\n",
    "      city: city name that you want the latitude, longitude and altitude\n",
    "      \n",
    "   Returns:\n",
    "      any: a dictionary with the following keys: city, latitude, longitude and altitude\n",
    "\n",
    "   Example:\n",
    "      result = get_latlng('tokyo')   \n",
    "   \"\"\"\n",
    "   r = df.query(f\"city.str.lower() == '{city.lower()}'\")\n",
    "   return { 'city': city, 'latitude': r.iloc[0]['latitude'], 'longitude': r.iloc[0]['longitude'], 'altitude': r.iloc[0]['altitude'] }"
   ]
  },
  {
   "cell_type": "code",
   "execution_count": 11,
   "metadata": {},
   "outputs": [
    {
     "data": {
      "text/plain": [
       "{'city': 'tokyo',\n",
       " 'latitude': np.float64(35.6895266),\n",
       " 'longitude': np.float64(139.6916809),\n",
       " 'altitude': np.int64(40)}"
      ]
     },
     "execution_count": 11,
     "metadata": {},
     "output_type": "execute_result"
    }
   ],
   "source": [
    "# TODO: Test get_latlng method\n",
    "# case insensitive search\n",
    "get_latlng('tokyo')"
   ]
  },
  {
   "cell_type": "markdown",
   "metadata": {},
   "source": [
    "### Temperature at latitude and longitude\n",
    "\n",
    "The following function lookup the weather at the given latitude and longtude."
   ]
  },
  {
   "cell_type": "code",
   "execution_count": 18,
   "metadata": {},
   "outputs": [],
   "source": [
    "# TODO: Add tool description\n",
    "\n",
    "@tool\n",
    "def get_temperature(latitude: float, longitude: float) -> any:\n",
    "   \"\"\" \n",
    "   Get the temperature of the city given by the latitude and longitude. The result is returned as a dictionary.\n",
    "\n",
    "   Args:\n",
    "      latitude: latitude of the city\n",
    "      longitude: longitude of the city\n",
    "\n",
    "   Returns:\n",
    "      any: a dictionary with the following keys: temperature_unit, temperature\n",
    "\n",
    "   Example:\n",
    "      result = get_temperature(35.6895266, 139.6916809)\n",
    "   \"\"\"\n",
    "   url = f\"https://api.open-meteo.com/v1/forecast?latitude={latitude}&longitude={longitude}&current=temperature_2m\"\n",
    "   resp = requests.get(url)\n",
    "   j = resp.json()\n",
    "   if resp.status_code >= 400:\n",
    "      raise Exception(j['reason'])\n",
    "   temperature = j['current']['temperature_2m']\n",
    "   units = j['current_units']['temperature_2m']\n",
    "   return { \"temperature_unit\": units, \"temperature\": temperature }"
   ]
  },
  {
   "cell_type": "code",
   "execution_count": 17,
   "metadata": {},
   "outputs": [
    {
     "data": {
      "text/plain": [
       "{'temperature_unit': '°C', 'temperature': 28.0}"
      ]
     },
     "execution_count": 17,
     "metadata": {},
     "output_type": "execute_result"
    }
   ],
   "source": [
    "# TODO: Test get_temperature method\n",
    "get_temperature(35.6895266, 139.6916809)"
   ]
  },
  {
   "cell_type": "code",
   "execution_count": 19,
   "metadata": {},
   "outputs": [],
   "source": [
    "# TODO: Create a web search tool\n",
    "\n",
    "def web_search(query: str) -> any:\n",
    "\n",
    "   search = DuckDuckGoSearchRun()\n",
    "   return search.invoke(query)"
   ]
  },
  {
   "cell_type": "code",
   "execution_count": 21,
   "metadata": {},
   "outputs": [
    {
     "name": "stderr",
     "output_type": "stream",
     "text": [
      "/opt/tmp/ellm-2025-aug11/.venv/lib/python3.12/site-packages/langchain_community/utilities/duckduckgo_search.py:63: RuntimeWarning: This package (`duckduckgo_search`) has been renamed to `ddgs`! Use `pip install ddgs` instead.\n",
      "  with DDGS() as ddgs:\n"
     ]
    },
    {
     "data": {
      "text/plain": [
       "'Jan 13, 2025 · 写在最后：NEXT给我的是惊艳，尤其是4.2和NEXT互换双持的过程中，切实的体会到了NEXT的种种好，比如无比的流畅，非线性的动画等等，这 … 如何评价网易云音乐和网易邮箱大师从鸿蒙 NEXT 应用商店的 \"即将到来\" 板块中消失? 网易云音乐先是上架了一个非常简陋的, 完全不能用的版本, 连听自己收藏的 … Nov 1, 2024 · 鸿蒙5.0和鸿蒙next的区别鸿蒙5.0和鸿蒙Next是华为推出的两个重要的操作系统版本，它们之间存在一些显著的差异。首先，鸿蒙5.0是鸿蒙操作系 … 目前鸿蒙next的装机量已经达到1000万以上，期待大版本更新的鸿蒙6.0，期待国产操作系统装机量超过1亿，甚至10亿的那天。 知乎，中文互联网高质量的问答社区和创作者聚集的原创内容平台，于 2011 年 1 月正式上线，以「让人们更好的分享知识、经验和见解，找到自己的解答」为品 …'"
      ]
     },
     "execution_count": 21,
     "metadata": {},
     "output_type": "execute_result"
    }
   ],
   "source": [
    "# TODO: Test the web search\n",
    "web_search(\"When is the next run of NUS ISS course 'Custom Generative AI Systems for Enterprises'?\")"
   ]
  },
  {
   "cell_type": "markdown",
   "metadata": {},
   "source": [
    "### Query relational database\n",
    "\n",
    "The following function queries a relational database (SQLite) view called `album_track`. The table's schema is as follows:\n",
    "| Field name  | Type          |\n",
    "|-------------|---------------| \n",
    "| AlbumId     | integer       |\n",
    "| Title       | nvarchar(160) |\n",
    "| track_name  | nvarchar(200) |\n",
    "| artist_name | nvarchar(120) |\n",
    "| duration    | integer       |\n",
    "| composer    | nvarchar(220) |\n"
   ]
  },
  {
   "cell_type": "code",
   "execution_count": 22,
   "metadata": {},
   "outputs": [],
   "source": [
    "# TODO: Add tool description\n",
    "\n",
    "@tool\n",
    "def query_album_track(query: str) -> str:\n",
    "   \"\"\" \n",
    "   Perform SQL query on the album_track table. Return the result as an array of records. \n",
    "   The table name is album_track and has the following columns:\n",
    "      AlbumId: integer\n",
    "      Title: nvarchar(160)\n",
    "      track_name: nvarchar(200)\n",
    "      artist_name: nvarchar(120)\n",
    "      duration: integer\n",
    "      composer: nvarchar(220)\n",
    "   The duration is in milliseconds.\n",
    "\n",
    "   Args:\n",
    "      query: a Valid SQL query in SQLite dialect. The query should only use the select SQL verb.\n",
    "\n",
    "   Returns:\n",
    "      str: list of tuple. Each element corresponds to a record from the query\n",
    "\n",
    "   Example:\n",
    "      results = query_album_track(\"select * from album_track where artist_name like '%jackson%'\")\n",
    "   \"\"\"\n",
    "   database = \"data/chinook_sqlite.sqlite\" \n",
    "   conn = sqlite3.connect(database)\n",
    "   try:\n",
    "      cursor = conn.cursor() \n",
    "      rows = cursor.execute(query)\n",
    "      return rows.fetchall()\n",
    "   finally:\n",
    "      conn.close()"
   ]
  },
  {
   "cell_type": "code",
   "execution_count": 24,
   "metadata": {},
   "outputs": [
    {
     "data": {
      "text/plain": [
       "[(3503,)]"
      ]
     },
     "execution_count": 24,
     "metadata": {},
     "output_type": "execute_result"
    }
   ],
   "source": [
    "# TODO: Test the query_album_track function\n",
    "query_album_track('select count(*) as rec_count from album_track')"
   ]
  },
  {
   "cell_type": "markdown",
   "metadata": {},
   "source": [
    "### Tools with states\n",
    "\n",
    "The following isn an example of a more complex tool that requires initialisation"
   ]
  },
  {
   "cell_type": "code",
   "execution_count": 25,
   "metadata": {},
   "outputs": [],
   "source": [
    "class SQLiteTool(Tool):\n",
    "\n",
    "   # Required metadata\n",
    "   name = \"chinook_sqlite\"\n",
    "\n",
    "   description = \"\"\" \n",
    "      Perform SQL query on the album_track table. Return the result as an array of records. \n",
    "      The table name is album_track and has the following columns:\n",
    "         AlbumId: integer\n",
    "         Title: nvarchar(160)\n",
    "         track_name: nvarchar(200)\n",
    "         artist_name: nvarchar(120)\n",
    "         duration: integer\n",
    "         composer: nvarchar(220)\n",
    "      The duration is in milliseconds.\n",
    "   \"\"\"\n",
    "\n",
    "   inputs = {\n",
    "      \"query\": {\n",
    "         \"type\": \"string\",\n",
    "         \"description\": \"A valid SQL query in SQLite dialect. The query should only use the select SQL verb.\"\n",
    "      }\n",
    "   }\n",
    "\n",
    "   output_type = \"string\"\n",
    "\n",
    "   def __init__(self, db_file):\n",
    "      self.db_file = db_file \n",
    "      self.setup()\n",
    "\n",
    "   def forward(self, query: str) -> str:\n",
    "      conn = sqlite3.connect(self.db_file)\n",
    "      try:\n",
    "         cursor = conn.cursor() \n",
    "         rows = cursor.execute(query)\n",
    "         return rows.fetchall()\n",
    "      finally:\n",
    "         conn.close()   "
   ]
  }
 ],
 "metadata": {
  "kernelspec": {
   "display_name": ".venv",
   "language": "python",
   "name": "python3"
  },
  "language_info": {
   "codemirror_mode": {
    "name": "ipython",
    "version": 3
   },
   "file_extension": ".py",
   "mimetype": "text/x-python",
   "name": "python",
   "nbconvert_exporter": "python",
   "pygments_lexer": "ipython3",
   "version": "3.12.3"
  }
 },
 "nbformat": 4,
 "nbformat_minor": 2
}
